{
 "cells": [
  {
   "cell_type": "code",
   "execution_count": 1,
   "metadata": {},
   "outputs": [
    {
     "name": "stdout",
     "output_type": "stream",
     "text": [
      "WARNING:tensorflow:From /home/medic/anaconda3/envs/montrex/lib/python3.7/site-packages/tensorflow/python/compat/v2_compat.py:96: disable_resource_variables (from tensorflow.python.ops.variable_scope) is deprecated and will be removed in a future version.\n",
      "Instructions for updating:\n",
      "non-resource variables are not supported in the long term\n",
      "reading dataset\n",
      "Number of Homo sapiens pathways: 490\n",
      "Number of valid pathways: 439\n"
     ]
    }
   ],
   "source": [
    "import pandas as pd\n",
    "import numpy as np\n",
    "import matplotlib.pyplot as plt\n",
    "from kneed import KneeLocator\n",
    "from jupyter_utils import AllDataset\n",
    "from gene_finding.pathway_matrix import load_pathway, get_valid_enrichr_pathways\n",
    "\n",
    "import tensorflow as tf\n",
    "tf.compat.v1.disable_v2_behavior()\n",
    "tf.random.set_seed(1)\n",
    "from cxplain import CXPlain\n",
    "\n",
    "\n",
    "data_dir = '../drp-data/'\n",
    "GDSC_GENE_EXPRESSION = 'preprocessed/gdsc_tcga/gdsc_rma_gene_expr.csv'\n",
    "TCGA_GENE_EXPRESSION = 'preprocessed/gdsc_tcga/tcga_log2_gene_expr.csv'\n",
    "enrichr_pathway = 'pathways/9606.enrichr_pathway.edge'\n",
    "enrichr_pathway_nodemap = 'pathways/9606.enrichr_pathway.node_map'\n",
    "\n",
    "TCGA_TISSUE = 'preprocessed/tissue_type/TCGA_tissue_one_hot.csv'\n",
    "GDSC_TISSUE = 'preprocessed/tissue_type/GDSC_tissue_one_hot.csv'\n",
    "\n",
    "GDSC_lnIC50 = 'preprocessed/drug_response/gdsc_lnic50.csv'\n",
    "TCGA_DR = 'preprocessed/drug_response/tcga_drug_response.csv'\n",
    "\n",
    "print('reading dataset')\n",
    "dataset = AllDataset(data_dir, GDSC_GENE_EXPRESSION, TCGA_GENE_EXPRESSION, \n",
    "                     GDSC_lnIC50, TCGA_DR, TCGA_TISSUE)\n",
    "\n",
    "list_of_pathways = get_valid_enrichr_pathways(data_dir + enrichr_pathway_nodemap)\n",
    "pathway_matrix, pathway_names = load_pathway(data_dir + enrichr_pathway, dataset.genes, list_of_pathways, 10, sort=True)\n",
    "\n",
    "mx = pd.DataFrame(pathway_matrix, index=pathway_names, columns=dataset.hgnc)\n",
    "path_size = mx.sum(axis=1)\n",
    "\n",
    "drugs = [\n",
    "#     'bleomycin',\n",
    "    'cisplatin',]\n",
    "#     'cyclophosphamide',\n",
    "#     'docetaxel',\n",
    "#     'doxorubicin',]\n",
    "#     'etoposide',\n",
    "#     'gemcitabine',\n",
    "#     'irinotecan',\n",
    "#     'oxaliplatin',\n",
    "#     'paclitaxel',\n",
    "#     'pemetrexed',\n",
    "#     'tamoxifen',\n",
    "#     'temozolomide',\n",
    "#     'vinorelbine']  \n",
    "\n",
    "root_dir = 'gene_finding/results/'"
   ]
  },
  {
   "cell_type": "code",
   "execution_count": 2,
   "metadata": {},
   "outputs": [],
   "source": [
    "def get_explainers(folder):\n",
    "    exp_dict = {}\n",
    "    for i, drug in enumerate(drugs):\n",
    "\n",
    "        exp = CXPlain.load('gene_finding/results/%s/%s/explainer'%(folder, drug), custom_model_loader=None, relpath=True)\n",
    "        exp_dict[drug] = exp\n",
    "    return exp_dict"
   ]
  },
  {
   "cell_type": "code",
   "execution_count": 3,
   "metadata": {},
   "outputs": [
    {
     "name": "stdout",
     "output_type": "stream",
     "text": [
      "WARNING:tensorflow:From /home/medic/anaconda3/envs/montrex/lib/python3.7/site-packages/tensorflow/python/ops/init_ops.py:97: calling GlorotUniform.__init__ (from tensorflow.python.ops.init_ops) with dtype is deprecated and will be removed in a future version.\n",
      "Instructions for updating:\n",
      "Call initializer instance with the dtype argument instead of passing it to the constructor\n",
      "WARNING:tensorflow:From /home/medic/anaconda3/envs/montrex/lib/python3.7/site-packages/tensorflow/python/ops/init_ops.py:97: calling Zeros.__init__ (from tensorflow.python.ops.init_ops) with dtype is deprecated and will be removed in a future version.\n",
      "Instructions for updating:\n",
      "Call initializer instance with the dtype argument instead of passing it to the constructor\n",
      "WARNING:tensorflow:No training configuration found in the save file, so the model was *not* compiled. Compile it manually.\n",
      "WARNING:tensorflow:No training configuration found in the save file, so the model was *not* compiled. Compile it manually.\n",
      "WARNING:tensorflow:No training configuration found in the save file, so the model was *not* compiled. Compile it manually.\n",
      "WARNING:tensorflow:No training configuration found in the save file, so the model was *not* compiled. Compile it manually.\n",
      "WARNING:tensorflow:No training configuration found in the save file, so the model was *not* compiled. Compile it manually.\n",
      "WARNING:tensorflow:No training configuration found in the save file, so the model was *not* compiled. Compile it manually.\n"
     ]
    }
   ],
   "source": [
    "explainers = get_explainers('CX_ens_enrichr3_diff')"
   ]
  },
  {
   "cell_type": "code",
   "execution_count": 4,
   "metadata": {},
   "outputs": [],
   "source": [
    "def read_baselines(folder):\n",
    "    bls = {}\n",
    "    for drug in drugs:\n",
    "        x = pd.read_csv(root_dir + folder + '/' + drug + '/baselines.csv', index_col=0)\n",
    "        bls[drug] = x\n",
    "        \n",
    "    return bls"
   ]
  },
  {
   "cell_type": "code",
   "execution_count": 5,
   "metadata": {},
   "outputs": [],
   "source": [
    "diff = read_baselines('CX_ens_enrichr3_diff')"
   ]
  },
  {
   "cell_type": "code",
   "execution_count": 6,
   "metadata": {},
   "outputs": [],
   "source": [
    "drug='cisplatin'"
   ]
  },
  {
   "cell_type": "code",
   "execution_count": 7,
   "metadata": {},
   "outputs": [],
   "source": [
    "gdsc_expr, gdsc_dr, _, test_tcga_expr = dataset.filter_and_normalize_data(drug)"
   ]
  },
  {
   "cell_type": "code",
   "execution_count": 8,
   "metadata": {},
   "outputs": [
    {
     "name": "stdout",
     "output_type": "stream",
     "text": [
      "WARNING:tensorflow:From /home/medic/anaconda3/envs/montrex/lib/python3.7/site-packages/tensorflow/python/keras/engine/training_v1.py:2070: Model.state_updates (from tensorflow.python.keras.engine.training) is deprecated and will be removed in a future version.\n",
      "Instructions for updating:\n",
      "This property should not be used in TensorFlow 2.0, as updates are applied automatically.\n"
     ]
    }
   ],
   "source": [
    "attr_tcga,conf_tcga = explainers[drug].explain_groups(test_tcga_expr.values)\n",
    "attr_tcga = pd.DataFrame(attr_tcga, index=test_tcga_expr.index, columns=pathway_names)\n",
    "attr_gdsc,conf_gdsc = explainers[drug].explain_groups(gdsc_expr.values)\n",
    "attr_gdsc = pd.DataFrame(attr_gdsc, index=gdsc_expr.index, columns=pathway_names)"
   ]
  },
  {
   "cell_type": "code",
   "execution_count": 9,
   "metadata": {},
   "outputs": [
    {
     "data": {
      "text/plain": [
       "WIKIPATH_CIRCADIAN_RYTHM_RELATED_GENES_HOMO_SAPIENS_WP3594         0.005694\n",
       "WIKIPATH_FOCAL_ADHESION_HOMO_SAPIENS_WP306                         0.005413\n",
       "WIKIPATH_GPCRS__CLASS_A_RHODOPSIN_LIKE_HOMO_SAPIENS_WP455          0.005218\n",
       "WIKIPATH_MRNA_PROCESSING_HOMO_SAPIENS_WP411                        0.004582\n",
       "WIKIPATH_CYTOPLASMIC_RIBOSOMAL_PROTEINS_HOMO_SAPIENS_WP477         0.004567\n",
       "WIKIPATH_METAPATHWAY_BIOTRANSFORMATION_HOMO_SAPIENS_WP702          0.004501\n",
       "WIKIPATH_NRF2_PATHWAY_HOMO_SAPIENS_WP2884                          0.004466\n",
       "WIKIPATH_APOPTOSIS_MODULATION_AND_SIGNALING_HOMO_SAPIENS_WP1772    0.004291\n",
       "WIKIPATH_PEPTIDE_GPCRS_HOMO_SAPIENS_WP24                           0.004190\n",
       "WIKIPATH_REGULATION_OF_TOLL_LIKE_RECEPTOR_SIGNALING_PATHWAY_HOM    0.004074\n",
       "dtype: float32"
      ]
     },
     "execution_count": 9,
     "metadata": {},
     "output_type": "execute_result"
    }
   ],
   "source": [
    "attr_tcga.mean(axis=0).sort_values(ascending=False)[:10]"
   ]
  },
  {
   "cell_type": "code",
   "execution_count": 10,
   "metadata": {},
   "outputs": [
    {
     "data": {
      "text/plain": [
       "WIKIPATH_CIRCADIAN_RYTHM_RELATED_GENES_HOMO_SAPIENS_WP3594         0.019633\n",
       "WIKIPATH_FOCAL_ADHESION_HOMO_SAPIENS_WP306                         0.013486\n",
       "WIKIPATH_CYTOPLASMIC_RIBOSOMAL_PROTEINS_HOMO_SAPIENS_WP477         0.013424\n",
       "WIKIPATH_GPCRS__CLASS_A_RHODOPSIN_LIKE_HOMO_SAPIENS_WP455          0.012889\n",
       "WIKIPATH_METAPATHWAY_BIOTRANSFORMATION_HOMO_SAPIENS_WP702          0.012513\n",
       "WIKIPATH_MRNA_PROCESSING_HOMO_SAPIENS_WP411                        0.010053\n",
       "WIKIPATH_ECTODERM_DIFFERENTIATION_HOMO_SAPIENS_WP2858              0.009022\n",
       "WIKIPATH_NEURAL_CREST_DIFFERENTIATION_HOMO_SAPIENS_WP2064          0.008406\n",
       "WIKIPATH_REGULATION_OF_TOLL_LIKE_RECEPTOR_SIGNALING_PATHWAY_HOM    0.008031\n",
       "WIKIPATH_NRF2_PATHWAY_HOMO_SAPIENS_WP2884                          0.007810\n",
       "dtype: float32"
      ]
     },
     "execution_count": 10,
     "metadata": {},
     "output_type": "execute_result"
    }
   ],
   "source": [
    "attr_gdsc.mean(axis=0).sort_values(ascending=False)[:10]"
   ]
  },
  {
   "cell_type": "code",
   "execution_count": 11,
   "metadata": {},
   "outputs": [
    {
     "data": {
      "text/plain": [
       "{'WIKIPATH_CIRCADIAN_RYTHM_RELATED_GENES_HOMO_SAPIENS_WP3594',\n",
       " 'WIKIPATH_CYTOPLASMIC_RIBOSOMAL_PROTEINS_HOMO_SAPIENS_WP477',\n",
       " 'WIKIPATH_FOCAL_ADHESION_HOMO_SAPIENS_WP306',\n",
       " 'WIKIPATH_GPCRS__CLASS_A_RHODOPSIN_LIKE_HOMO_SAPIENS_WP455',\n",
       " 'WIKIPATH_METAPATHWAY_BIOTRANSFORMATION_HOMO_SAPIENS_WP702',\n",
       " 'WIKIPATH_MRNA_PROCESSING_HOMO_SAPIENS_WP411'}"
      ]
     },
     "execution_count": 11,
     "metadata": {},
     "output_type": "execute_result"
    }
   ],
   "source": [
    "set(attr_tcga.mean(axis=0).sort_values(ascending=False)[:6].index).intersection(set(attr_gdsc.mean(axis=0).sort_values(ascending=False)[:6].index))"
   ]
  },
  {
   "cell_type": "code",
   "execution_count": 12,
   "metadata": {},
   "outputs": [
    {
     "data": {
      "text/plain": [
       "(array([  4.,   8.,  29.,  47.,  82., 103.,  86.,  42.,  15.,   6.,   4.,\n",
       "          4.,   2.,   1.,   2.,   2.,   1.,   0.,   0.,   1.]),\n",
       " array([0.00079696, 0.00104064, 0.00128432, 0.00152799, 0.00177167,\n",
       "        0.00201535, 0.00225903, 0.0025027 , 0.00274638, 0.00299006,\n",
       "        0.00323374, 0.00347741, 0.00372109, 0.00396477, 0.00420845,\n",
       "        0.00445212, 0.0046958 , 0.00493948, 0.00518316, 0.00542683,\n",
       "        0.00567051], dtype=float32),\n",
       " <BarContainer object of 20 artists>)"
      ]
     },
     "execution_count": 12,
     "metadata": {},
     "output_type": "execute_result"
    },
    {
     "data": {
      "image/png": "[encoded data removed]",
      "text/plain": [
       "<Figure size 432x288 with 1 Axes>"
      ]
     },
     "metadata": {
      "needs_background": "light"
     },
     "output_type": "display_data"
    }
   ],
   "source": [
    "plt.hist(attr_tcga.iloc[0], bins=20)"
   ]
  },
  {
   "cell_type": "code",
   "execution_count": 13,
   "metadata": {},
   "outputs": [
    {
     "data": {
      "text/plain": [
       "(array([ 3.,  9., 12., 33., 77., 69., 80., 58., 35., 21., 19., 11.,  2.,\n",
       "         3.,  2.,  1.,  2.,  1.,  0.,  1.]),\n",
       " array([0.00162486, 0.00172196, 0.00181906, 0.00191617, 0.00201327,\n",
       "        0.00211037, 0.00220748, 0.00230458, 0.00240168, 0.00249878,\n",
       "        0.00259589, 0.00269299, 0.00279009, 0.00288719, 0.0029843 ,\n",
       "        0.0030814 , 0.0031785 , 0.0032756 , 0.00337271, 0.00346981,\n",
       "        0.00356691], dtype=float32),\n",
       " <BarContainer object of 20 artists>)"
      ]
     },
     "execution_count": 13,
     "metadata": {},
     "output_type": "execute_result"
    },
    {
     "data": {
      "image/png": "[encoded data removed]",
      "text/plain": [
       "<Figure size 432x288 with 1 Axes>"
      ]
     },
     "metadata": {
      "needs_background": "light"
     },
     "output_type": "display_data"
    }
   ],
   "source": [
    "plt.hist(attr_gdsc.iloc[0], bins=20)"
   ]
  },
  {
   "cell_type": "code",
   "execution_count": 14,
   "metadata": {},
   "outputs": [
    {
     "data": {
      "text/plain": [
       "0.9889659"
      ]
     },
     "execution_count": 14,
     "metadata": {},
     "output_type": "execute_result"
    }
   ],
   "source": [
    "attr_gdsc['WIKIPATH_CIRCADIAN_RYTHM_RELATED_GENES_HOMO_SAPIENS_WP3594'].max()"
   ]
  },
  {
   "cell_type": "code",
   "execution_count": 15,
   "metadata": {},
   "outputs": [
    {
     "data": {
      "text/plain": [
       "0.031048324"
      ]
     },
     "execution_count": 15,
     "metadata": {},
     "output_type": "execute_result"
    }
   ],
   "source": [
    "attr_tcga['WIKIPATH_CIRCADIAN_RYTHM_RELATED_GENES_HOMO_SAPIENS_WP3594'].max()"
   ]
  },
  {
   "cell_type": "code",
   "execution_count": 16,
   "metadata": {},
   "outputs": [
    {
     "data": {
      "text/plain": [
       "(0.0, 100.0)"
      ]
     },
     "execution_count": 16,
     "metadata": {},
     "output_type": "execute_result"
    },
    {
     "data": {
      "image/png": "[encoded data removed]",
      "text/plain": [
       "<Figure size 432x288 with 1 Axes>"
      ]
     },
     "metadata": {
      "needs_background": "light"
     },
     "output_type": "display_data"
    }
   ],
   "source": [
    "plt.hist([attr_gdsc['WIKIPATH_CIRCADIAN_RYTHM_RELATED_GENES_HOMO_SAPIENS_WP3594'],\n",
    "          attr_tcga['WIKIPATH_CIRCADIAN_RYTHM_RELATED_GENES_HOMO_SAPIENS_WP3594']], bins=20)\n",
    "plt.ylim(top=100)"
   ]
  },
  {
   "cell_type": "code",
   "execution_count": null,
   "metadata": {},
   "outputs": [],
   "source": []
  },
  {
   "cell_type": "code",
   "execution_count": null,
   "metadata": {},
   "outputs": [],
   "source": [
    "fig, axes = plt.subplots(3, 2, figsize=(14, 15))\n",
    "\n",
    "top6 = rank_diff[drug].loc[range(6)]['mean'].values\n",
    "for i in range(6):\n",
    "    ax = axes[i%3][i//3]\n",
    "    ax.hist(diff[drug][top6[i]], bins=20)\n",
    "    ax.set_title(top6[i][:50])\n",
    "    ax.axvline(diff[drug][top6[i]].mean(), color='r', label='mean')\n",
    "    ax.axvline(diff[drug][top6[i]].median(), color='orange', label='median')\n",
    "plt.show()"
   ]
  },
  {
   "cell_type": "markdown",
   "metadata": {},
   "source": [
    "## Load the Prediction Model to find the omegas"
   ]
  },
  {
   "cell_type": "code",
   "execution_count": 17,
   "metadata": {},
   "outputs": [],
   "source": [
    "from gene_finding.models import load_model, EnsModel\n",
    "import torch\n",
    "models = []\n",
    "\n",
    "for i in range(1, 11):\n",
    "    mod = load_model(seed=i,drug=drug,n_genes=len(dataset.genes))\n",
    "    mod.eval()\n",
    "    models.append(mod)\n",
    "    \n",
    "ens = EnsModel(models)"
   ]
  },
  {
   "cell_type": "code",
   "execution_count": 18,
   "metadata": {},
   "outputs": [
    {
     "name": "stdout",
     "output_type": "stream",
     "text": [
      "cuda\n",
      "(439, 15650)\n",
      "torch.Size([945, 1])\n",
      "model_loss torch.Size([945, 1])\n",
      "100\n",
      "200\n",
      "300\n",
      "400\n",
      "500\n",
      "600\n",
      "700\n",
      "800\n",
      "900\n"
     ]
    }
   ],
   "source": [
    "from gene_finding.precalculate_omega import precalculate_omegas\n",
    "loss = torch.nn.MSELoss(reduction='none')\n",
    "omegas,_ = precalculate_omegas(ens, gdsc_expr, gdsc_dr, pathway_matrix, loss, mode='none', return_sum_one=False)"
   ]
  },
  {
   "cell_type": "code",
   "execution_count": 20,
   "metadata": {},
   "outputs": [],
   "source": [
    "omega_dist = pd.DataFrame(omegas/omegas.sum(axis=-1, keepdims=True), gdsc_expr.index, columns=pathway_names)"
   ]
  },
  {
   "cell_type": "code",
   "execution_count": 60,
   "metadata": {},
   "outputs": [
    {
     "data": {
      "image/png": "[encoded data removed]",
      "text/plain": [
       "<Figure size 432x288 with 1 Axes>"
      ]
     },
     "metadata": {
      "needs_background": "light"
     },
     "output_type": "display_data"
    }
   ],
   "source": [
    "i = 200\n",
    "plt.hist([attr_gdsc.iloc[i].values, omega_dist.iloc[i].values], label=['out', 'omega'], bins=20)\n",
    "plt.legend()\n",
    "plt.show()"
   ]
  },
  {
   "cell_type": "code",
   "execution_count": 30,
   "metadata": {},
   "outputs": [
    {
     "data": {
      "text/plain": [
       "0.7046497"
      ]
     },
     "execution_count": 30,
     "metadata": {},
     "output_type": "execute_result"
    }
   ],
   "source": [
    "attr_gdsc.iloc[1].sum()"
   ]
  },
  {
   "cell_type": "code",
   "execution_count": 58,
   "metadata": {},
   "outputs": [
    {
     "data": {
      "text/plain": [
       "0.7046497"
      ]
     },
     "execution_count": 58,
     "metadata": {},
     "output_type": "execute_result"
    }
   ],
   "source": [
    "exp = explainers['cisplatin']\n",
    "k = [exp._predict_single(exp.prediction_model[0], np.asarray(gdsc_expr.iloc[1].values).reshape((1,-1))),\n",
    "     exp._predict_single(exp.prediction_model[1], np.asarray(gdsc_expr.iloc[1].values).reshape((1,-1))),\n",
    "     exp._predict_single(exp.prediction_model[2], np.asarray(gdsc_expr.iloc[1].values).reshape((1,-1)))]\n",
    "k = np.concatenate(k)\n",
    "np.median(k, axis=0).sum()"
   ]
  },
  {
   "cell_type": "code",
   "execution_count": 210,
   "metadata": {},
   "outputs": [
    {
     "data": {
      "text/plain": [
       "Text(0.5, 0, '$|P|$')"
      ]
     },
     "execution_count": 210,
     "metadata": {},
     "output_type": "execute_result"
    },
    {
     "data": {
      "image/png": "[encoded data removed]",
      "text/plain": [
       "<Figure size 432x288 with 1 Axes>"
      ]
     },
     "metadata": {
      "needs_background": "light"
     },
     "output_type": "display_data"
    }
   ],
   "source": [
    "y = omega_dist.mean(axis=0)\n",
    "plt.scatter(path_size[y.index], y.values)\n",
    "plt.ylabel(r'mean $\\omega(P)$ across CLs')\n",
    "plt.xlabel(r'$|P|$')"
   ]
  },
  {
   "cell_type": "code",
   "execution_count": 221,
   "metadata": {},
   "outputs": [
    {
     "data": {
      "text/plain": [
       "(439,)"
      ]
     },
     "execution_count": 221,
     "metadata": {},
     "output_type": "execute_result"
    }
   ],
   "source": [
    "path_size[omega_dist.columns].values.shape"
   ]
  },
  {
   "cell_type": "code",
   "execution_count": 227,
   "metadata": {},
   "outputs": [
    {
     "data": {
      "text/html": [
       "<div>\n",
       "<style scoped>\n",
       "    .dataframe tbody tr th:only-of-type {\n",
       "        vertical-align: middle;\n",
       "    }\n",
       "\n",
       "    .dataframe tbody tr th {\n",
       "        vertical-align: top;\n",
       "    }\n",
       "\n",
       "    .dataframe thead th {\n",
       "        text-align: right;\n",
       "    }\n",
       "</style>\n",
       "<table border=\"1\" class=\"dataframe\">\n",
       "  <thead>\n",
       "    <tr style=\"text-align: right;\">\n",
       "      <th></th>\n",
       "      <th>WIKIPATH_METASTATIC_BRAIN_TUMOR_HOMO_SAPIENS_WP2249</th>\n",
       "      <th>WIKIPATH_TYPE_III_INTERFERON_SIGNALING_HOMO_SAPIENS_WP2113</th>\n",
       "      <th>NCI_SIGNALING_MEDIATED_BY_P38_GAMMA_AND_P38_DELTA_HOMO_SAPIENS_</th>\n",
       "      <th>WIKIPATH_IRINOTECAN_PATHWAY_HOMO_SAPIENS_WP229</th>\n",
       "      <th>WIKIPATH_NUCLEOTIDE_GPCRS_HOMO_SAPIENS_WP80</th>\n",
       "      <th>WIKIPATH_TFS_REGULATE_MIRNAS_RELATED_TO_CARDIAC_HYPERTROPHY_HOM</th>\n",
       "      <th>WIKIPATH_VITAMIN_D_METABOLISM_HOMO_SAPIENS_WP1531</th>\n",
       "      <th>WIKIPATH_STEROID_BIOSYNTHESIS_HOMO_SAPIENS_WP496</th>\n",
       "      <th>WIKIPATH_RALA_DOWNSTREAM_REGULATED_GENES_HOMO_SAPIENS_WP2290</th>\n",
       "      <th>WIKIPATH_HOMOLOGOUS_RECOMBINATION_HOMO_SAPIENS_WP186</th>\n",
       "      <th>...</th>\n",
       "      <th>WIKIPATH_INTEGRATED_BREAST_CANCER_PATHWAY_HOMO_SAPIENS_WP1984</th>\n",
       "      <th>WIKIPATH_METAPATHWAY_BIOTRANSFORMATION_HOMO_SAPIENS_WP702</th>\n",
       "      <th>WIKIPATH_MYOMETRIAL_RELAXATION_AND_CONTRACTION_PATHWAYS_HOMO_SA</th>\n",
       "      <th>WIKIPATH_INSULIN_SIGNALING_HOMO_SAPIENS_WP481</th>\n",
       "      <th>WIKIPATH_MAPK_SIGNALING_PATHWAY_HOMO_SAPIENS_WP382</th>\n",
       "      <th>WIKIPATH_EGF_EGFR_SIGNALING_PATHWAY_HOMO_SAPIENS_WP437</th>\n",
       "      <th>WIKIPATH_FOCAL_ADHESION_HOMO_SAPIENS_WP306</th>\n",
       "      <th>WIKIPATH_INTEGRATED_PANCREATIC_CANCER_PATHWAY_HOMO_SAPIENS_WP23</th>\n",
       "      <th>WIKIPATH_CIRCADIAN_RYTHM_RELATED_GENES_HOMO_SAPIENS_WP3594</th>\n",
       "      <th>WIKIPATH_GPCRS__CLASS_A_RHODOPSIN_LIKE_HOMO_SAPIENS_WP455</th>\n",
       "    </tr>\n",
       "  </thead>\n",
       "  <tbody>\n",
       "    <tr>\n",
       "      <th>906826</th>\n",
       "      <td>5.642961e-06</td>\n",
       "      <td>2.098050e-05</td>\n",
       "      <td>1.635763e-05</td>\n",
       "      <td>6.673799e-06</td>\n",
       "      <td>1.250000e-08</td>\n",
       "      <td>1.891592e-05</td>\n",
       "      <td>1.111111e-08</td>\n",
       "      <td>3.726025e-05</td>\n",
       "      <td>1.111111e-08</td>\n",
       "      <td>4.413072e-07</td>\n",
       "      <td>...</td>\n",
       "      <td>5.550907e-06</td>\n",
       "      <td>3.756706e-06</td>\n",
       "      <td>1.564666e-05</td>\n",
       "      <td>4.827922e-06</td>\n",
       "      <td>1.948732e-05</td>\n",
       "      <td>1.055435e-05</td>\n",
       "      <td>5.847953e-10</td>\n",
       "      <td>1.320753e-05</td>\n",
       "      <td>6.508209e-06</td>\n",
       "      <td>8.415365e-06</td>\n",
       "    </tr>\n",
       "    <tr>\n",
       "      <th>687983</th>\n",
       "      <td>3.066349e-05</td>\n",
       "      <td>6.344215e-06</td>\n",
       "      <td>4.137069e-06</td>\n",
       "      <td>1.250000e-08</td>\n",
       "      <td>4.578855e-06</td>\n",
       "      <td>1.652045e-05</td>\n",
       "      <td>1.111111e-08</td>\n",
       "      <td>1.189179e-06</td>\n",
       "      <td>1.601423e-05</td>\n",
       "      <td>1.000000e-08</td>\n",
       "      <td>...</td>\n",
       "      <td>1.745501e-07</td>\n",
       "      <td>7.042254e-10</td>\n",
       "      <td>6.896552e-10</td>\n",
       "      <td>6.274287e-06</td>\n",
       "      <td>7.338814e-07</td>\n",
       "      <td>3.253275e-07</td>\n",
       "      <td>1.626797e-06</td>\n",
       "      <td>5.714286e-10</td>\n",
       "      <td>5.464481e-10</td>\n",
       "      <td>1.415461e-06</td>\n",
       "    </tr>\n",
       "    <tr>\n",
       "      <th>910927</th>\n",
       "      <td>1.910143e-05</td>\n",
       "      <td>1.428571e-08</td>\n",
       "      <td>1.250000e-08</td>\n",
       "      <td>9.537442e-06</td>\n",
       "      <td>1.250000e-08</td>\n",
       "      <td>1.250000e-08</td>\n",
       "      <td>4.406651e-05</td>\n",
       "      <td>1.111111e-08</td>\n",
       "      <td>1.319358e-05</td>\n",
       "      <td>3.402969e-05</td>\n",
       "      <td>...</td>\n",
       "      <td>7.092199e-10</td>\n",
       "      <td>2.475606e-06</td>\n",
       "      <td>1.096779e-05</td>\n",
       "      <td>6.802721e-10</td>\n",
       "      <td>6.835923e-07</td>\n",
       "      <td>7.294702e-06</td>\n",
       "      <td>3.603902e-06</td>\n",
       "      <td>6.577644e-06</td>\n",
       "      <td>3.734039e-06</td>\n",
       "      <td>4.388893e-06</td>\n",
       "    </tr>\n",
       "    <tr>\n",
       "      <th>1240138</th>\n",
       "      <td>1.666667e-08</td>\n",
       "      <td>1.428571e-08</td>\n",
       "      <td>1.250000e-08</td>\n",
       "      <td>9.927840e-06</td>\n",
       "      <td>1.250000e-08</td>\n",
       "      <td>1.250000e-08</td>\n",
       "      <td>2.830988e-06</td>\n",
       "      <td>5.783386e-05</td>\n",
       "      <td>6.427756e-06</td>\n",
       "      <td>1.000000e-08</td>\n",
       "      <td>...</td>\n",
       "      <td>7.092199e-10</td>\n",
       "      <td>7.042254e-10</td>\n",
       "      <td>2.343850e-07</td>\n",
       "      <td>6.802721e-10</td>\n",
       "      <td>6.711409e-10</td>\n",
       "      <td>6.666667e-10</td>\n",
       "      <td>5.847953e-10</td>\n",
       "      <td>5.714286e-10</td>\n",
       "      <td>5.464481e-10</td>\n",
       "      <td>1.481759e-06</td>\n",
       "    </tr>\n",
       "    <tr>\n",
       "      <th>1240139</th>\n",
       "      <td>1.666667e-08</td>\n",
       "      <td>1.043161e-06</td>\n",
       "      <td>2.127786e-08</td>\n",
       "      <td>7.073299e-08</td>\n",
       "      <td>1.250000e-08</td>\n",
       "      <td>3.844312e-06</td>\n",
       "      <td>1.111111e-08</td>\n",
       "      <td>2.200932e-06</td>\n",
       "      <td>1.111111e-08</td>\n",
       "      <td>1.000000e-08</td>\n",
       "      <td>...</td>\n",
       "      <td>8.780613e-07</td>\n",
       "      <td>1.491765e-06</td>\n",
       "      <td>2.543765e-08</td>\n",
       "      <td>6.802721e-10</td>\n",
       "      <td>6.711409e-10</td>\n",
       "      <td>6.603257e-08</td>\n",
       "      <td>8.072144e-07</td>\n",
       "      <td>1.032483e-06</td>\n",
       "      <td>1.924701e-07</td>\n",
       "      <td>5.050505e-10</td>\n",
       "    </tr>\n",
       "    <tr>\n",
       "      <th>...</th>\n",
       "      <td>...</td>\n",
       "      <td>...</td>\n",
       "      <td>...</td>\n",
       "      <td>...</td>\n",
       "      <td>...</td>\n",
       "      <td>...</td>\n",
       "      <td>...</td>\n",
       "      <td>...</td>\n",
       "      <td>...</td>\n",
       "      <td>...</td>\n",
       "      <td>...</td>\n",
       "      <td>...</td>\n",
       "      <td>...</td>\n",
       "      <td>...</td>\n",
       "      <td>...</td>\n",
       "      <td>...</td>\n",
       "      <td>...</td>\n",
       "      <td>...</td>\n",
       "      <td>...</td>\n",
       "      <td>...</td>\n",
       "      <td>...</td>\n",
       "    </tr>\n",
       "    <tr>\n",
       "      <th>908145</th>\n",
       "      <td>3.200211e-05</td>\n",
       "      <td>5.847907e-05</td>\n",
       "      <td>7.780059e-05</td>\n",
       "      <td>1.250000e-08</td>\n",
       "      <td>6.653694e-05</td>\n",
       "      <td>6.680121e-05</td>\n",
       "      <td>3.704160e-05</td>\n",
       "      <td>1.111111e-08</td>\n",
       "      <td>7.510289e-05</td>\n",
       "      <td>1.000000e-08</td>\n",
       "      <td>...</td>\n",
       "      <td>7.346986e-06</td>\n",
       "      <td>6.657620e-05</td>\n",
       "      <td>4.719952e-05</td>\n",
       "      <td>7.510730e-06</td>\n",
       "      <td>1.758715e-05</td>\n",
       "      <td>3.762282e-06</td>\n",
       "      <td>6.080551e-05</td>\n",
       "      <td>2.359726e-05</td>\n",
       "      <td>3.763045e-05</td>\n",
       "      <td>4.595525e-05</td>\n",
       "    </tr>\n",
       "    <tr>\n",
       "      <th>1298157</th>\n",
       "      <td>2.170411e-06</td>\n",
       "      <td>1.428571e-08</td>\n",
       "      <td>2.320693e-06</td>\n",
       "      <td>1.250000e-08</td>\n",
       "      <td>4.763965e-07</td>\n",
       "      <td>1.250000e-08</td>\n",
       "      <td>1.111111e-08</td>\n",
       "      <td>1.111111e-08</td>\n",
       "      <td>3.361278e-07</td>\n",
       "      <td>7.190902e-07</td>\n",
       "      <td>...</td>\n",
       "      <td>1.578209e-07</td>\n",
       "      <td>1.386545e-06</td>\n",
       "      <td>6.896552e-10</td>\n",
       "      <td>6.802721e-10</td>\n",
       "      <td>6.711409e-10</td>\n",
       "      <td>6.666667e-10</td>\n",
       "      <td>5.847953e-10</td>\n",
       "      <td>5.714286e-10</td>\n",
       "      <td>4.512718e-07</td>\n",
       "      <td>1.984764e-08</td>\n",
       "    </tr>\n",
       "    <tr>\n",
       "      <th>1480372</th>\n",
       "      <td>1.666667e-08</td>\n",
       "      <td>1.508069e-05</td>\n",
       "      <td>1.250000e-08</td>\n",
       "      <td>2.244322e-05</td>\n",
       "      <td>1.250000e-08</td>\n",
       "      <td>1.250000e-08</td>\n",
       "      <td>1.111111e-08</td>\n",
       "      <td>1.111111e-08</td>\n",
       "      <td>1.111111e-08</td>\n",
       "      <td>2.205633e-05</td>\n",
       "      <td>...</td>\n",
       "      <td>7.092199e-10</td>\n",
       "      <td>1.667062e-06</td>\n",
       "      <td>6.896552e-10</td>\n",
       "      <td>3.215502e-07</td>\n",
       "      <td>6.597321e-06</td>\n",
       "      <td>6.666667e-10</td>\n",
       "      <td>5.847953e-10</td>\n",
       "      <td>3.518229e-06</td>\n",
       "      <td>3.226514e-06</td>\n",
       "      <td>1.640722e-06</td>\n",
       "    </tr>\n",
       "    <tr>\n",
       "      <th>1298533</th>\n",
       "      <td>1.121576e-05</td>\n",
       "      <td>4.720808e-05</td>\n",
       "      <td>4.353933e-06</td>\n",
       "      <td>4.062057e-05</td>\n",
       "      <td>6.279326e-06</td>\n",
       "      <td>3.419293e-05</td>\n",
       "      <td>1.172525e-05</td>\n",
       "      <td>1.111111e-08</td>\n",
       "      <td>2.096956e-05</td>\n",
       "      <td>2.607182e-05</td>\n",
       "      <td>...</td>\n",
       "      <td>3.179113e-05</td>\n",
       "      <td>1.423549e-05</td>\n",
       "      <td>3.971384e-06</td>\n",
       "      <td>8.777481e-06</td>\n",
       "      <td>1.204527e-05</td>\n",
       "      <td>1.257246e-05</td>\n",
       "      <td>3.539085e-05</td>\n",
       "      <td>2.223940e-05</td>\n",
       "      <td>2.528975e-05</td>\n",
       "      <td>5.050505e-10</td>\n",
       "    </tr>\n",
       "    <tr>\n",
       "      <th>930299</th>\n",
       "      <td>3.548979e-06</td>\n",
       "      <td>1.428571e-08</td>\n",
       "      <td>1.235594e-05</td>\n",
       "      <td>1.250000e-08</td>\n",
       "      <td>1.250000e-08</td>\n",
       "      <td>1.250000e-08</td>\n",
       "      <td>1.111111e-08</td>\n",
       "      <td>9.967803e-06</td>\n",
       "      <td>1.111111e-08</td>\n",
       "      <td>1.000000e-08</td>\n",
       "      <td>...</td>\n",
       "      <td>7.092199e-10</td>\n",
       "      <td>7.042254e-10</td>\n",
       "      <td>6.896552e-10</td>\n",
       "      <td>5.619708e-07</td>\n",
       "      <td>6.711409e-10</td>\n",
       "      <td>6.666667e-10</td>\n",
       "      <td>5.847953e-10</td>\n",
       "      <td>5.714286e-10</td>\n",
       "      <td>5.464481e-10</td>\n",
       "      <td>5.050505e-10</td>\n",
       "    </tr>\n",
       "  </tbody>\n",
       "</table>\n",
       "<p>945 rows × 439 columns</p>\n",
       "</div>"
      ],
      "text/plain": [
       "         WIKIPATH_METASTATIC_BRAIN_TUMOR_HOMO_SAPIENS_WP2249  \\\n",
       "906826                                        5.642961e-06     \n",
       "687983                                        3.066349e-05     \n",
       "910927                                        1.910143e-05     \n",
       "1240138                                       1.666667e-08     \n",
       "1240139                                       1.666667e-08     \n",
       "...                                                    ...     \n",
       "908145                                        3.200211e-05     \n",
       "1298157                                       2.170411e-06     \n",
       "1480372                                       1.666667e-08     \n",
       "1298533                                       1.121576e-05     \n",
       "930299                                        3.548979e-06     \n",
       "\n",
       "         WIKIPATH_TYPE_III_INTERFERON_SIGNALING_HOMO_SAPIENS_WP2113  \\\n",
       "906826                                        2.098050e-05            \n",
       "687983                                        6.344215e-06            \n",
       "910927                                        1.428571e-08            \n",
       "1240138                                       1.428571e-08            \n",
       "1240139                                       1.043161e-06            \n",
       "...                                                    ...            \n",
       "908145                                        5.847907e-05            \n",
       "1298157                                       1.428571e-08            \n",
       "1480372                                       1.508069e-05            \n",
       "1298533                                       4.720808e-05            \n",
       "930299                                        1.428571e-08            \n",
       "\n",
       "         NCI_SIGNALING_MEDIATED_BY_P38_GAMMA_AND_P38_DELTA_HOMO_SAPIENS_  \\\n",
       "906826                                        1.635763e-05                 \n",
       "687983                                        4.137069e-06                 \n",
       "910927                                        1.250000e-08                 \n",
       "1240138                                       1.250000e-08                 \n",
       "1240139                                       2.127786e-08                 \n",
       "...                                                    ...                 \n",
       "908145                                        7.780059e-05                 \n",
       "1298157                                       2.320693e-06                 \n",
       "1480372                                       1.250000e-08                 \n",
       "1298533                                       4.353933e-06                 \n",
       "930299                                        1.235594e-05                 \n",
       "\n",
       "         WIKIPATH_IRINOTECAN_PATHWAY_HOMO_SAPIENS_WP229  \\\n",
       "906826                                     6.673799e-06   \n",
       "687983                                     1.250000e-08   \n",
       "910927                                     9.537442e-06   \n",
       "1240138                                    9.927840e-06   \n",
       "1240139                                    7.073299e-08   \n",
       "...                                                 ...   \n",
       "908145                                     1.250000e-08   \n",
       "1298157                                    1.250000e-08   \n",
       "1480372                                    2.244322e-05   \n",
       "1298533                                    4.062057e-05   \n",
       "930299                                     1.250000e-08   \n",
       "\n",
       "         WIKIPATH_NUCLEOTIDE_GPCRS_HOMO_SAPIENS_WP80  \\\n",
       "906826                                  1.250000e-08   \n",
       "687983                                  4.578855e-06   \n",
       "910927                                  1.250000e-08   \n",
       "1240138                                 1.250000e-08   \n",
       "1240139                                 1.250000e-08   \n",
       "...                                              ...   \n",
       "908145                                  6.653694e-05   \n",
       "1298157                                 4.763965e-07   \n",
       "1480372                                 1.250000e-08   \n",
       "1298533                                 6.279326e-06   \n",
       "930299                                  1.250000e-08   \n",
       "\n",
       "         WIKIPATH_TFS_REGULATE_MIRNAS_RELATED_TO_CARDIAC_HYPERTROPHY_HOM  \\\n",
       "906826                                        1.891592e-05                 \n",
       "687983                                        1.652045e-05                 \n",
       "910927                                        1.250000e-08                 \n",
       "1240138                                       1.250000e-08                 \n",
       "1240139                                       3.844312e-06                 \n",
       "...                                                    ...                 \n",
       "908145                                        6.680121e-05                 \n",
       "1298157                                       1.250000e-08                 \n",
       "1480372                                       1.250000e-08                 \n",
       "1298533                                       3.419293e-05                 \n",
       "930299                                        1.250000e-08                 \n",
       "\n",
       "         WIKIPATH_VITAMIN_D_METABOLISM_HOMO_SAPIENS_WP1531  \\\n",
       "906826                                        1.111111e-08   \n",
       "687983                                        1.111111e-08   \n",
       "910927                                        4.406651e-05   \n",
       "1240138                                       2.830988e-06   \n",
       "1240139                                       1.111111e-08   \n",
       "...                                                    ...   \n",
       "908145                                        3.704160e-05   \n",
       "1298157                                       1.111111e-08   \n",
       "1480372                                       1.111111e-08   \n",
       "1298533                                       1.172525e-05   \n",
       "930299                                        1.111111e-08   \n",
       "\n",
       "         WIKIPATH_STEROID_BIOSYNTHESIS_HOMO_SAPIENS_WP496  \\\n",
       "906826                                       3.726025e-05   \n",
       "687983                                       1.189179e-06   \n",
       "910927                                       1.111111e-08   \n",
       "1240138                                      5.783386e-05   \n",
       "1240139                                      2.200932e-06   \n",
       "...                                                   ...   \n",
       "908145                                       1.111111e-08   \n",
       "1298157                                      1.111111e-08   \n",
       "1480372                                      1.111111e-08   \n",
       "1298533                                      1.111111e-08   \n",
       "930299                                       9.967803e-06   \n",
       "\n",
       "         WIKIPATH_RALA_DOWNSTREAM_REGULATED_GENES_HOMO_SAPIENS_WP2290  \\\n",
       "906826                                        1.111111e-08              \n",
       "687983                                        1.601423e-05              \n",
       "910927                                        1.319358e-05              \n",
       "1240138                                       6.427756e-06              \n",
       "1240139                                       1.111111e-08              \n",
       "...                                                    ...              \n",
       "908145                                        7.510289e-05              \n",
       "1298157                                       3.361278e-07              \n",
       "1480372                                       1.111111e-08              \n",
       "1298533                                       2.096956e-05              \n",
       "930299                                        1.111111e-08              \n",
       "\n",
       "         WIKIPATH_HOMOLOGOUS_RECOMBINATION_HOMO_SAPIENS_WP186  ...  \\\n",
       "906826                                        4.413072e-07     ...   \n",
       "687983                                        1.000000e-08     ...   \n",
       "910927                                        3.402969e-05     ...   \n",
       "1240138                                       1.000000e-08     ...   \n",
       "1240139                                       1.000000e-08     ...   \n",
       "...                                                    ...     ...   \n",
       "908145                                        1.000000e-08     ...   \n",
       "1298157                                       7.190902e-07     ...   \n",
       "1480372                                       2.205633e-05     ...   \n",
       "1298533                                       2.607182e-05     ...   \n",
       "930299                                        1.000000e-08     ...   \n",
       "\n",
       "         WIKIPATH_INTEGRATED_BREAST_CANCER_PATHWAY_HOMO_SAPIENS_WP1984  \\\n",
       "906826                                        5.550907e-06               \n",
       "687983                                        1.745501e-07               \n",
       "910927                                        7.092199e-10               \n",
       "1240138                                       7.092199e-10               \n",
       "1240139                                       8.780613e-07               \n",
       "...                                                    ...               \n",
       "908145                                        7.346986e-06               \n",
       "1298157                                       1.578209e-07               \n",
       "1480372                                       7.092199e-10               \n",
       "1298533                                       3.179113e-05               \n",
       "930299                                        7.092199e-10               \n",
       "\n",
       "         WIKIPATH_METAPATHWAY_BIOTRANSFORMATION_HOMO_SAPIENS_WP702  \\\n",
       "906826                                        3.756706e-06           \n",
       "687983                                        7.042254e-10           \n",
       "910927                                        2.475606e-06           \n",
       "1240138                                       7.042254e-10           \n",
       "1240139                                       1.491765e-06           \n",
       "...                                                    ...           \n",
       "908145                                        6.657620e-05           \n",
       "1298157                                       1.386545e-06           \n",
       "1480372                                       1.667062e-06           \n",
       "1298533                                       1.423549e-05           \n",
       "930299                                        7.042254e-10           \n",
       "\n",
       "         WIKIPATH_MYOMETRIAL_RELAXATION_AND_CONTRACTION_PATHWAYS_HOMO_SA  \\\n",
       "906826                                        1.564666e-05                 \n",
       "687983                                        6.896552e-10                 \n",
       "910927                                        1.096779e-05                 \n",
       "1240138                                       2.343850e-07                 \n",
       "1240139                                       2.543765e-08                 \n",
       "...                                                    ...                 \n",
       "908145                                        4.719952e-05                 \n",
       "1298157                                       6.896552e-10                 \n",
       "1480372                                       6.896552e-10                 \n",
       "1298533                                       3.971384e-06                 \n",
       "930299                                        6.896552e-10                 \n",
       "\n",
       "         WIKIPATH_INSULIN_SIGNALING_HOMO_SAPIENS_WP481  \\\n",
       "906826                                    4.827922e-06   \n",
       "687983                                    6.274287e-06   \n",
       "910927                                    6.802721e-10   \n",
       "1240138                                   6.802721e-10   \n",
       "1240139                                   6.802721e-10   \n",
       "...                                                ...   \n",
       "908145                                    7.510730e-06   \n",
       "1298157                                   6.802721e-10   \n",
       "1480372                                   3.215502e-07   \n",
       "1298533                                   8.777481e-06   \n",
       "930299                                    5.619708e-07   \n",
       "\n",
       "         WIKIPATH_MAPK_SIGNALING_PATHWAY_HOMO_SAPIENS_WP382  \\\n",
       "906826                                        1.948732e-05    \n",
       "687983                                        7.338814e-07    \n",
       "910927                                        6.835923e-07    \n",
       "1240138                                       6.711409e-10    \n",
       "1240139                                       6.711409e-10    \n",
       "...                                                    ...    \n",
       "908145                                        1.758715e-05    \n",
       "1298157                                       6.711409e-10    \n",
       "1480372                                       6.597321e-06    \n",
       "1298533                                       1.204527e-05    \n",
       "930299                                        6.711409e-10    \n",
       "\n",
       "         WIKIPATH_EGF_EGFR_SIGNALING_PATHWAY_HOMO_SAPIENS_WP437  \\\n",
       "906826                                        1.055435e-05        \n",
       "687983                                        3.253275e-07        \n",
       "910927                                        7.294702e-06        \n",
       "1240138                                       6.666667e-10        \n",
       "1240139                                       6.603257e-08        \n",
       "...                                                    ...        \n",
       "908145                                        3.762282e-06        \n",
       "1298157                                       6.666667e-10        \n",
       "1480372                                       6.666667e-10        \n",
       "1298533                                       1.257246e-05        \n",
       "930299                                        6.666667e-10        \n",
       "\n",
       "         WIKIPATH_FOCAL_ADHESION_HOMO_SAPIENS_WP306  \\\n",
       "906826                                 5.847953e-10   \n",
       "687983                                 1.626797e-06   \n",
       "910927                                 3.603902e-06   \n",
       "1240138                                5.847953e-10   \n",
       "1240139                                8.072144e-07   \n",
       "...                                             ...   \n",
       "908145                                 6.080551e-05   \n",
       "1298157                                5.847953e-10   \n",
       "1480372                                5.847953e-10   \n",
       "1298533                                3.539085e-05   \n",
       "930299                                 5.847953e-10   \n",
       "\n",
       "         WIKIPATH_INTEGRATED_PANCREATIC_CANCER_PATHWAY_HOMO_SAPIENS_WP23  \\\n",
       "906826                                        1.320753e-05                 \n",
       "687983                                        5.714286e-10                 \n",
       "910927                                        6.577644e-06                 \n",
       "1240138                                       5.714286e-10                 \n",
       "1240139                                       1.032483e-06                 \n",
       "...                                                    ...                 \n",
       "908145                                        2.359726e-05                 \n",
       "1298157                                       5.714286e-10                 \n",
       "1480372                                       3.518229e-06                 \n",
       "1298533                                       2.223940e-05                 \n",
       "930299                                        5.714286e-10                 \n",
       "\n",
       "         WIKIPATH_CIRCADIAN_RYTHM_RELATED_GENES_HOMO_SAPIENS_WP3594  \\\n",
       "906826                                        6.508209e-06            \n",
       "687983                                        5.464481e-10            \n",
       "910927                                        3.734039e-06            \n",
       "1240138                                       5.464481e-10            \n",
       "1240139                                       1.924701e-07            \n",
       "...                                                    ...            \n",
       "908145                                        3.763045e-05            \n",
       "1298157                                       4.512718e-07            \n",
       "1480372                                       3.226514e-06            \n",
       "1298533                                       2.528975e-05            \n",
       "930299                                        5.464481e-10            \n",
       "\n",
       "         WIKIPATH_GPCRS__CLASS_A_RHODOPSIN_LIKE_HOMO_SAPIENS_WP455  \n",
       "906826                                        8.415365e-06          \n",
       "687983                                        1.415461e-06          \n",
       "910927                                        4.388893e-06          \n",
       "1240138                                       1.481759e-06          \n",
       "1240139                                       5.050505e-10          \n",
       "...                                                    ...          \n",
       "908145                                        4.595525e-05          \n",
       "1298157                                       1.984764e-08          \n",
       "1480372                                       1.640722e-06          \n",
       "1298533                                       5.050505e-10          \n",
       "930299                                        5.050505e-10          \n",
       "\n",
       "[945 rows x 439 columns]"
      ]
     },
     "execution_count": 227,
     "metadata": {},
     "output_type": "execute_result"
    }
   ],
   "source": [
    "omegas/(path_size[omega_dist.columns].values)#.reshape(-1,1)"
   ]
  },
  {
   "cell_type": "code",
   "execution_count": 233,
   "metadata": {},
   "outputs": [
    {
     "data": {
      "text/plain": [
       "Text(0.5, 0, '$|P|$')"
      ]
     },
     "execution_count": 233,
     "metadata": {},
     "output_type": "execute_result"
    },
    {
     "data": {
      "image/png": "[encoded data removed]",
      "text/plain": [
       "<Figure size 432x288 with 1 Axes>"
      ]
     },
     "metadata": {
      "needs_background": "light"
     },
     "output_type": "display_data"
    }
   ],
   "source": [
    "y = omegas/(path_size[omega_dist.columns].values)\n",
    "plt.scatter(path_size[omegas.columns], y.mean(axis=0))\n",
    "plt.ylabel(r'mean $\\omega(P)/|P|$ across CLs')\n",
    "plt.xlabel(r'$|P|$')"
   ]
  },
  {
   "cell_type": "code",
   "execution_count": 76,
   "metadata": {},
   "outputs": [
    {
     "data": {
      "text/plain": [
       "Text(0.5, 0, '$|P|$')"
      ]
     },
     "execution_count": 76,
     "metadata": {},
     "output_type": "execute_result"
    },
    {
     "data": {
      "image/png": "[encoded data removed]",
      "text/plain": [
       "<Figure size 432x288 with 1 Axes>"
      ]
     },
     "metadata": {
      "needs_background": "light"
     },
     "output_type": "display_data"
    }
   ],
   "source": [
    "sorted_baseline = diff[drug].mean(axis=0).sort_values(ascending=False)\n",
    "plt.scatter(path_size[sorted_baseline.index], sorted_baseline.values)\n",
    "plt.ylabel(r'mean baseline across CLs')\n",
    "plt.xlabel(r'$|P|$')"
   ]
  },
  {
   "cell_type": "code",
   "execution_count": 107,
   "metadata": {},
   "outputs": [
    {
     "data": {
      "text/plain": [
       "Text(0.5, 0, '$|P|$')"
      ]
     },
     "execution_count": 107,
     "metadata": {},
     "output_type": "execute_result"
    },
    {
     "data": {
      "image/png": "[encoded data removed]",
      "text/plain": [
       "<Figure size 432x288 with 1 Axes>"
      ]
     },
     "metadata": {
      "needs_background": "light"
     },
     "output_type": "display_data"
    }
   ],
   "source": [
    "sorted_baseline = diff[drug].median(axis=0).sort_values(ascending=False)\n",
    "plt.scatter(path_size[sorted_baseline.index], sorted_baseline.values)\n",
    "plt.ylabel(r'median baseline across CLs')\n",
    "plt.xlabel(r'$|P|$')"
   ]
  },
  {
   "cell_type": "code",
   "execution_count": 77,
   "metadata": {},
   "outputs": [
    {
     "data": {
      "text/plain": [
       "(945, 439)"
      ]
     },
     "execution_count": 77,
     "metadata": {},
     "output_type": "execute_result"
    }
   ],
   "source": [
    "diff[drug].shape"
   ]
  },
  {
   "cell_type": "code",
   "execution_count": 78,
   "metadata": {},
   "outputs": [
    {
     "data": {
      "text/plain": [
       "(945, 439)"
      ]
     },
     "execution_count": 78,
     "metadata": {},
     "output_type": "execute_result"
    }
   ],
   "source": [
    "omegas.shape"
   ]
  },
  {
   "cell_type": "code",
   "execution_count": 81,
   "metadata": {},
   "outputs": [
    {
     "data": {
      "text/plain": [
       "Text(0, 0.5, 'unnormalized omega')"
      ]
     },
     "execution_count": 81,
     "metadata": {},
     "output_type": "execute_result"
    },
    {
     "data": {
      "image/png": "[encoded data removed]",
      "text/plain": [
       "<Figure size 432x288 with 1 Axes>"
      ]
     },
     "metadata": {
      "needs_background": "light"
     },
     "output_type": "display_data"
    }
   ],
   "source": [
    "plt.scatter(diff[drug].iloc[0], omega_dist.iloc[0])\n",
    "plt.xlabel('baseline')\n",
    "plt.ylabel('unnormalized omega')"
   ]
  },
  {
   "cell_type": "code",
   "execution_count": 82,
   "metadata": {},
   "outputs": [],
   "source": [
    "kl = torch.nn.KLDivLoss()"
   ]
  },
  {
   "cell_type": "code",
   "execution_count": 102,
   "metadata": {},
   "outputs": [
    {
     "data": {
      "text/plain": [
       "tensor(0.0042)"
      ]
     },
     "execution_count": 102,
     "metadata": {},
     "output_type": "execute_result"
    }
   ],
   "source": [
    "w = torch.FloatTensor(omega_dist.values)\n",
    "a = torch.FloatTensor(attr_gdsc.values)\n",
    "kl(a.log(), w)"
   ]
  },
  {
   "cell_type": "code",
   "execution_count": 86,
   "metadata": {},
   "outputs": [],
   "source": [
    "k = [exp._predict_single(exp.prediction_model[0], np.asarray(gdsc_expr.values)),\n",
    "     exp._predict_single(exp.prediction_model[1], np.asarray(gdsc_expr.values)),\n",
    "     exp._predict_single(exp.prediction_model[2], np.asarray(gdsc_expr.values))]"
   ]
  },
  {
   "cell_type": "code",
   "execution_count": 103,
   "metadata": {},
   "outputs": [
    {
     "data": {
      "text/plain": [
       "tensor(0.0044)"
      ]
     },
     "execution_count": 103,
     "metadata": {},
     "output_type": "execute_result"
    }
   ],
   "source": [
    "a = torch.FloatTensor(k[0])\n",
    "kl(a.log(), w)"
   ]
  },
  {
   "cell_type": "code",
   "execution_count": 104,
   "metadata": {},
   "outputs": [
    {
     "data": {
      "text/plain": [
       "tensor(0.0047)"
      ]
     },
     "execution_count": 104,
     "metadata": {},
     "output_type": "execute_result"
    }
   ],
   "source": [
    "a = torch.FloatTensor(k[1])\n",
    "kl(a.log(),w)"
   ]
  },
  {
   "cell_type": "code",
   "execution_count": 105,
   "metadata": {},
   "outputs": [
    {
     "data": {
      "text/plain": [
       "tensor(0.0043)"
      ]
     },
     "execution_count": 105,
     "metadata": {},
     "output_type": "execute_result"
    }
   ],
   "source": [
    "a = torch.FloatTensor(k[2])\n",
    "kl(a.log(), w)"
   ]
  },
  {
   "cell_type": "code",
   "execution_count": 118,
   "metadata": {},
   "outputs": [],
   "source": [
    "omegas = pd.DataFrame(omegas, index=gdsc_expr.index, columns=pathway_names)"
   ]
  },
  {
   "cell_type": "code",
   "execution_count": 131,
   "metadata": {},
   "outputs": [],
   "source": [
    "omegas.index = [int(x) for x in omegas.index]"
   ]
  },
  {
   "cell_type": "code",
   "execution_count": 208,
   "metadata": {},
   "outputs": [],
   "source": [
    "diff_omega = np.maximum(omegas-diff[drug], np.ones(omegas.shape)*1e-7)\n",
    "diff_omega = diff_omega/diff_omega.values.sum(axis=-1, keepdims=True)"
   ]
  },
  {
   "cell_type": "code",
   "execution_count": 209,
   "metadata": {},
   "outputs": [
    {
     "data": {
      "text/plain": [
       "Text(0.5, 0, '$|P|$')"
      ]
     },
     "execution_count": 209,
     "metadata": {},
     "output_type": "execute_result"
    },
    {
     "data": {
      "image/png": "[encoded data removed]",
      "text/plain": [
       "<Figure size 432x288 with 1 Axes>"
      ]
     },
     "metadata": {
      "needs_background": "light"
     },
     "output_type": "display_data"
    }
   ],
   "source": [
    "y = diff_omega.mean(axis=0).sort_values(ascending=False)\n",
    "plt.scatter(path_size[y.index], y.values)\n",
    "plt.ylabel(r'mean difference score across CLs')\n",
    "plt.xlabel(r'$|P|$')"
   ]
  },
  {
   "cell_type": "code",
   "execution_count": 149,
   "metadata": {},
   "outputs": [
    {
     "data": {
      "text/plain": [
       "Text(0.5, 0, '$|P|$')"
      ]
     },
     "execution_count": 149,
     "metadata": {},
     "output_type": "execute_result"
    },
    {
     "data": {
      "image/png": "[encoded data removed]",
      "text/plain": [
       "<Figure size 432x288 with 1 Axes>"
      ]
     },
     "metadata": {
      "needs_background": "light"
     },
     "output_type": "display_data"
    }
   ],
   "source": [
    "unnorm_omega = omega_dist.mean(axis=0)\n",
    "scaled_omega = (omega_dist/path_size[omega_dist.columns]).mean(axis=0)\n",
    "scaled_omega = scaled_omega/scaled_omega.values.sum(axis=-1, keepdims=True)\n",
    "y = diff_omega.mean(axis=0)\n",
    "\n",
    "plt.scatter(path_size[unnorm_omega.index], unnorm_omega.values, label='unnormalized omega')\n",
    "plt.scatter(path_size[y.index], y.values, label='difference_score')\n",
    "plt.scatter(path_size[scaled_omega.index], scaled_omega.values, label='scaled omega')\n",
    "# plt.ylabel(r'mean difference score across CLs')\n",
    "plt.legend()\n",
    "plt.xlabel(r'$|P|$')"
   ]
  },
  {
   "cell_type": "code",
   "execution_count": 197,
   "metadata": {},
   "outputs": [
    {
     "data": {
      "text/plain": [
       "Text(0.5, 0, '$|P|$')"
      ]
     },
     "execution_count": 197,
     "metadata": {},
     "output_type": "execute_result"
    },
    {
     "data": {
      "image/png": "[encoded data removed]",
      "text/plain": [
       "<Figure size 720x720 with 1 Axes>"
      ]
     },
     "metadata": {
      "needs_background": "light"
     },
     "output_type": "display_data"
    }
   ],
   "source": [
    "plt.figure(figsize=(10,10))\n",
    "\n",
    "sample = 100\n",
    "unnorm_omega = omega_dist.iloc[sample]\n",
    "scaled_omega = (omegas.iloc[sample]/path_size[omegas.columns])\n",
    "scaled_omega = scaled_omega/scaled_omega.sum()\n",
    "y = diff_omega.iloc[sample]\n",
    "bl = diff[drug].iloc[sample]\n",
    "\n",
    "# y = np.maximum(omegas.iloc[sample]-bl, np.ones(len(bl))*1e-7)\n",
    "# y = y/y.sum()\n",
    "\n",
    "plt.scatter(path_size[unnorm_omega.index], unnorm_omega.values, alpha=0.7, label='unnormalized omega')\n",
    "plt.scatter(path_size[y.index], y.values, alpha=0.7, label='difference_score', marker='^')\n",
    "plt.scatter(path_size[scaled_omega.index], scaled_omega.values, alpha=0.7, label='scaled omega')\n",
    "plt.scatter(path_size[bl.index], bl.values, alpha=0.7, label='baseline', marker='s')\n",
    "# plt.ylabel(r'mean difference score across CLs')\n",
    "plt.legend()\n",
    "plt.xlabel(r'$|P|$')"
   ]
  },
  {
   "cell_type": "code",
   "execution_count": 234,
   "metadata": {},
   "outputs": [
    {
     "name": "stdout",
     "output_type": "stream",
     "text": [
      "WIKIPATH_EGF_EGFR_SIGNALING_PATHWAY_HOMO_SAPIENS_WP437         0.000144\n",
      "WIKIPATH_REGULATION_OF_ACTIN_CYTOSKELETON_HOMO_SAPIENS_WP51    0.000141\n",
      "WIKIPATH_INSULIN_SIGNALING_HOMO_SAPIENS_WP481                  0.000113\n",
      "WIKIPATH_METAPATHWAY_BIOTRANSFORMATION_HOMO_SAPIENS_WP702      0.000108\n",
      "Name: 910549, dtype: float64 WIKIPATH_EGF_EGFR_SIGNALING_PATHWAY_HOMO_SAPIENS_WP437         150\n",
      "WIKIPATH_REGULATION_OF_ACTIN_CYTOSKELETON_HOMO_SAPIENS_WP51    137\n",
      "WIKIPATH_INSULIN_SIGNALING_HOMO_SAPIENS_WP481                  147\n",
      "WIKIPATH_METAPATHWAY_BIOTRANSFORMATION_HOMO_SAPIENS_WP702      142\n",
      "dtype: int64\n"
     ]
    },
    {
     "data": {
      "text/plain": [
       "Text(0.5, 0, '$|P|$')"
      ]
     },
     "execution_count": 234,
     "metadata": {},
     "output_type": "execute_result"
    },
    {
     "data": {
      "image/png": "[encoded data removed]",
      "text/plain": [
       "<Figure size 720x720 with 1 Axes>"
      ]
     },
     "metadata": {
      "needs_background": "light"
     },
     "output_type": "display_data"
    }
   ],
   "source": [
    "plt.figure(figsize=(10,10))\n",
    "\n",
    "sample = 100\n",
    "unnorm_omega = omegas.iloc[sample]\n",
    "scaled_omega = (omegas.iloc[sample]/path_size[omegas.columns])*path_size.mean()\n",
    "\n",
    "# y = diff_omega.iloc[sample]\n",
    "bl = diff[drug].iloc[sample]\n",
    "\n",
    "y = np.maximum(omegas.iloc[sample]-bl, np.ones(len(bl))*1e-7)\n",
    "\n",
    "top = (omegas.iloc[sample]-bl).nlargest(4)\n",
    "print(top, path_size[top.index])\n",
    "\n",
    "plt.scatter(path_size[unnorm_omega.index], unnorm_omega.values, alpha=0.7, label=r'$\\Delta \\varepsilon(X,P)$')\n",
    "plt.scatter(path_size[y.index], y.values, alpha=0.7, label='difference_score', marker='^')\n",
    "plt.scatter(path_size[scaled_omega.index], scaled_omega.values, alpha=0.7, label='scaled omega', marker='*')\n",
    "plt.scatter(path_size[bl.index], bl.values, alpha=0.7, label='baseline', marker='s')\n",
    "# plt.ylabel(r'mean difference score across CLs')\n",
    "plt.legend(loc='upper left')\n",
    "plt.xlabel(r'$|P|$')"
   ]
  },
  {
   "cell_type": "code",
   "execution_count": null,
   "metadata": {},
   "outputs": [],
   "source": []
  },
  {
   "cell_type": "code",
   "execution_count": null,
   "metadata": {},
   "outputs": [],
   "source": []
  },
  {
   "cell_type": "code",
   "execution_count": 24,
   "metadata": {},
   "outputs": [
    {
     "data": {
      "text/plain": [
       "0.9999999"
      ]
     },
     "execution_count": 24,
     "metadata": {},
     "output_type": "execute_result"
    }
   ],
   "source": [
    "omega_dist.iloc[0].sum()"
   ]
  },
  {
   "cell_type": "code",
   "execution_count": 25,
   "metadata": {},
   "outputs": [
    {
     "data": {
      "text/plain": [
       "(945, 439)"
      ]
     },
     "execution_count": 25,
     "metadata": {},
     "output_type": "execute_result"
    }
   ],
   "source": [
    "attr_gdsc.shape"
   ]
  },
  {
   "cell_type": "code",
   "execution_count": 26,
   "metadata": {},
   "outputs": [
    {
     "data": {
      "text/plain": [
       "(945, 439)"
      ]
     },
     "execution_count": 26,
     "metadata": {},
     "output_type": "execute_result"
    }
   ],
   "source": [
    "omega_dist.shape"
   ]
  },
  {
   "cell_type": "code",
   "execution_count": 15,
   "metadata": {},
   "outputs": [],
   "source": [
    "def get_pathway_rankings(folder):\n",
    "    paths = {}\n",
    "    for drug in drugs:\n",
    "        x = pd.read_csv(root_dir + folder + '/' + drug + '/pathways.csv')\n",
    "        paths[drug] = x\n",
    "        \n",
    "    return paths"
   ]
  },
  {
   "cell_type": "code",
   "execution_count": 16,
   "metadata": {},
   "outputs": [],
   "source": [
    "rank_diff = get_pathway_rankings('CX_ens_enrichr3_diff')"
   ]
  },
  {
   "cell_type": "code",
   "execution_count": 35,
   "metadata": {},
   "outputs": [
    {
     "data": {
      "image/png": "[encoded data removed]",
      "text/plain": [
       "<Figure size 1008x1080 with 6 Axes>"
      ]
     },
     "metadata": {
      "needs_background": "light"
     },
     "output_type": "display_data"
    }
   ],
   "source": [
    "fig, axes = plt.subplots(3, 2, figsize=(14, 15))\n",
    "\n",
    "drug = 'bleomycin'\n",
    "top6 = rank_diff[drug].loc[range(6)]['mean'].values\n",
    "for i in range(6):\n",
    "    ax = axes[i%3][i//3]\n",
    "    ax.hist(diff[drug][top6[i]], bins=20)\n",
    "    ax.set_title(top6[i][:50])\n",
    "    ax.axvline(diff[drug][top6[i]].mean(), color='r', label='mean')\n",
    "    ax.axvline(diff[drug][top6[i]].median(), color='orange', label='median')\n",
    "plt.show()"
   ]
  },
  {
   "cell_type": "code",
   "execution_count": null,
   "metadata": {},
   "outputs": [],
   "source": []
  }
 ],
 "metadata": {
  "kernelspec": {
   "display_name": "Python 3",
   "language": "python",
   "name": "python3"
  },
  "language_info": {
   "codemirror_mode": {
    "name": "ipython",
    "version": 3
   },
   "file_extension": ".py",
   "mimetype": "text/x-python",
   "name": "python",
   "nbconvert_exporter": "python",
   "pygments_lexer": "ipython3",
   "version": "3.7.6"
  }
 },
 "nbformat": 4,
 "nbformat_minor": 4
}
