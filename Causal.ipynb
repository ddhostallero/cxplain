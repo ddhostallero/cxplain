{
 "cells": [
  {
   "cell_type": "code",
   "execution_count": 1,
   "metadata": {},
   "outputs": [],
   "source": [
    "import pandas as pd\n",
    "import numpy as np\n",
    "import matplotlib.pyplot as plt\n",
    "from kneed import KneeLocator\n",
    "from jupyter_utils import AllDataset\n",
    "\n",
    "# import tensorflow as tf\n",
    "# tf.compat.v1.disable_v2_behavior()\n",
    "# tf.random.set_seed(1)\n",
    "# from cxplain import CXPlain\n",
    "\n",
    "\n",
    "data_dir = '../drp-data/'\n",
    "GDSC_GENE_EXPRESSION = 'preprocessed/gdsc_tcga/gdsc_rma_gene_expr.csv'\n",
    "TCGA_GENE_EXPRESSION = 'preprocessed/gdsc_tcga/tcga_log2_gene_expr.csv'\n",
    "\n",
    "TCGA_TISSUE = 'preprocessed/tissue_type/TCGA_tissue_one_hot.csv'\n",
    "GDSC_TISSUE = 'preprocessed/tissue_type/GDSC_tissue_one_hot.csv'\n",
    "\n",
    "GDSC_lnIC50 = 'preprocessed/drug_response/gdsc_lnic50.csv'\n",
    "TCGA_DR = 'preprocessed/drug_response/tcga_drug_response.csv'\n",
    "\n",
    "dataset = AllDataset(data_dir, GDSC_GENE_EXPRESSION, TCGA_GENE_EXPRESSION, \n",
    "                     GDSC_lnIC50, TCGA_DR, TCGA_TISSUE)\n"
   ]
  },
  {
   "cell_type": "code",
   "execution_count": 18,
   "metadata": {},
   "outputs": [],
   "source": [
    "import torch"
   ]
  },
  {
   "cell_type": "code",
   "execution_count": 11,
   "metadata": {},
   "outputs": [],
   "source": [
    "def get_tcga_dr_bin(drug):\n",
    "    x = dataset.tcga_dr[drug].dropna()\n",
    "    y1 = x.isin(['Clinical Progressive Disease', 'Stable Disease'])\n",
    "    return y1.values*1"
   ]
  },
  {
   "cell_type": "code",
   "execution_count": 12,
   "metadata": {},
   "outputs": [
    {
     "data": {
      "text/plain": [
       "7f2c3de9-a1b9-413a-821c-02dbcad4ea0b.FPKM.txt.gz               Complete Response\n",
       "0e397288-82e4-48c7-9332-2ce733befdae.FPKM.txt.gz    Clinical Progressive Disease\n",
       "f5e4c398-d9db-4cd0-bd12-3751a624d377.FPKM.txt.gz                  Stable Disease\n",
       "4ce3e99a-a195-414c-a967-7d3795d48934.FPKM.txt.gz               Complete Response\n",
       "1953cac0-8088-44ea-b371-e8b98097d871.FPKM.txt.gz               Complete Response\n",
       "be6d9906-45f4-4e32-83d0-327fa8c21666.FPKM.txt.gz                  Stable Disease\n",
       "33fa1673-1d0d-4838-a313-1929c5af60d1.FPKM.txt.gz               Complete Response\n",
       "1f81c6d5-6a0b-43d8-b4e9-64ccd4d76291.FPKM.txt.gz               Complete Response\n",
       "eff0bfff-4b66-4fd1-9f5b-ceb3cf6c7c81.FPKM.txt.gz    Clinical Progressive Disease\n",
       "899a4fae-569f-463c-8cb1-049b9d50b9f4.FPKM.txt.gz               Complete Response\n",
       "9ed9fdc8-a437-4f4b-8ef8-e3f0c219baca.FPKM.txt.gz               Complete Response\n",
       "a142c4c1-3c63-4338-968a-7c1b494b5d76.FPKM.txt.gz    Clinical Progressive Disease\n",
       "943f8d82-d39d-4621-a357-6ff69e85a6bf.FPKM.txt.gz               Complete Response\n",
       "51f23908-2796-4c07-82a8-21b8a717f84e.FPKM.txt.gz               Complete Response\n",
       "0f5dcdd3-2e9e-41d1-88a0-e186519aae4e.FPKM.txt.gz               Complete Response\n",
       "f8d89988-7ca5-4d3b-91da-ffaca0702f9c.FPKM.txt.gz               Complete Response\n",
       "49169d14-c16b-4f51-9cf6-4191d3d2e25f.FPKM.txt.gz               Complete Response\n",
       "1e215a66-f961-4870-a370-4b945e1f7053.FPKM.txt.gz               Complete Response\n",
       "9221965b-27b8-410e-bf2c-32f9318d0514.FPKM.txt.gz    Clinical Progressive Disease\n",
       "e8f5bbce-2f4b-4e79-a746-c374ffc57037.FPKM.txt.gz               Complete Response\n",
       "Name: tamoxifen, dtype: object"
      ]
     },
     "execution_count": 12,
     "metadata": {},
     "output_type": "execute_result"
    }
   ],
   "source": [
    "dataset.tcga_dr['tamoxifen'].dropna()"
   ]
  },
  {
   "cell_type": "code",
   "execution_count": 34,
   "metadata": {},
   "outputs": [],
   "source": [
    "y_true = get_tcga_dr_bin('tamoxifen')"
   ]
  },
  {
   "cell_type": "code",
   "execution_count": null,
   "metadata": {},
   "outputs": [],
   "source": []
  },
  {
   "cell_type": "code",
   "execution_count": 3,
   "metadata": {},
   "outputs": [],
   "source": [
    "from gene_finding.models import load_model, EnsModel\n",
    "drug = 'tamoxifen'\n",
    "gdsc_expr, gdsc_dr, _, test_tcga_expr = dataset.filter_and_normalize_data(drug, load_normalizer=True)\n",
    "    \n",
    "models = []\n",
    "\n",
    "for i in range(1, 11):\n",
    "    mod = load_model(seed=i,drug=drug,n_genes=len(dataset.genes))\n",
    "    mod.eval()\n",
    "    models.append(mod)\n",
    "ens = EnsModel(models)"
   ]
  },
  {
   "cell_type": "code",
   "execution_count": 14,
   "metadata": {},
   "outputs": [
    {
     "data": {
      "text/plain": [
       "(20, 15650)"
      ]
     },
     "execution_count": 14,
     "metadata": {},
     "output_type": "execute_result"
    }
   ],
   "source": [
    "test_tcga_expr.shape"
   ]
  },
  {
   "cell_type": "code",
   "execution_count": 16,
   "metadata": {},
   "outputs": [],
   "source": [
    "def get_masked_data_for_CXPlain(model, expr):\n",
    "    x_train = torch.FloatTensor(expr.values)\n",
    "\n",
    "    device = 'cuda' if torch.cuda.is_available() else 'cpu'\n",
    "    print(device)\n",
    "\n",
    "    if type(model) == EnsModel:\n",
    "        for m in model.model_list:\n",
    "            m.to(device)\n",
    "\n",
    "    model.to(device)\n",
    "    model.eval()\n",
    "\n",
    "    y_pred = model(x_train.to(device)).cpu().detach().numpy()\n",
    "    n_genes = x_train.shape[1]\n",
    "\n",
    "    mask = torch.ones((n_genes, n_genes)) - torch.eye(n_genes)\n",
    "\n",
    "    list_of_masked_outs = []\n",
    "    for i, sample in enumerate(x_train):\n",
    "        if (i+1) % 100 == 0: print(i)\n",
    "        masked_sample = sample*mask\n",
    "        data = torch.utils.data.TensorDataset(masked_sample)\n",
    "        data = torch.utils.data.DataLoader(data, batch_size=512, shuffle=False)\n",
    "        \n",
    "        ret_val = []\n",
    "        for [x] in data:\n",
    "            x = x.to(device)\n",
    "            ret_val.append(model(x))\n",
    "\n",
    "        ret_val = torch.cat(ret_val, axis=0).unsqueeze(0).cpu().detach().numpy()\n",
    "        list_of_masked_outs.append(ret_val)\n",
    "\n",
    "    masked_outs = np.concatenate(list_of_masked_outs)\n",
    "    return (y_pred, masked_outs)"
   ]
  },
  {
   "cell_type": "code",
   "execution_count": 31,
   "metadata": {},
   "outputs": [
    {
     "name": "stdout",
     "output_type": "stream",
     "text": [
      "cuda\n"
     ]
    }
   ],
   "source": [
    "y_pred, masked_data = get_masked_data_for_CXPlain(ens, test_tcga_expr)"
   ]
  },
  {
   "cell_type": "code",
   "execution_count": 35,
   "metadata": {},
   "outputs": [
    {
     "data": {
      "text/html": [
       "<div>\n",
       "<style scoped>\n",
       "    .dataframe tbody tr th:only-of-type {\n",
       "        vertical-align: middle;\n",
       "    }\n",
       "\n",
       "    .dataframe tbody tr th {\n",
       "        vertical-align: top;\n",
       "    }\n",
       "\n",
       "    .dataframe thead th {\n",
       "        text-align: right;\n",
       "    }\n",
       "</style>\n",
       "<table border=\"1\" class=\"dataframe\">\n",
       "  <thead>\n",
       "    <tr style=\"text-align: right;\">\n",
       "      <th></th>\n",
       "      <th>y</th>\n",
       "      <th>y_hat</th>\n",
       "    </tr>\n",
       "  </thead>\n",
       "  <tbody>\n",
       "    <tr>\n",
       "      <th>0</th>\n",
       "      <td>0</td>\n",
       "      <td>0.120357</td>\n",
       "    </tr>\n",
       "    <tr>\n",
       "      <th>1</th>\n",
       "      <td>1</td>\n",
       "      <td>0.172462</td>\n",
       "    </tr>\n",
       "    <tr>\n",
       "      <th>2</th>\n",
       "      <td>1</td>\n",
       "      <td>0.500911</td>\n",
       "    </tr>\n",
       "    <tr>\n",
       "      <th>3</th>\n",
       "      <td>0</td>\n",
       "      <td>0.093035</td>\n",
       "    </tr>\n",
       "    <tr>\n",
       "      <th>4</th>\n",
       "      <td>0</td>\n",
       "      <td>0.062783</td>\n",
       "    </tr>\n",
       "    <tr>\n",
       "      <th>5</th>\n",
       "      <td>1</td>\n",
       "      <td>0.198576</td>\n",
       "    </tr>\n",
       "    <tr>\n",
       "      <th>6</th>\n",
       "      <td>0</td>\n",
       "      <td>-0.060881</td>\n",
       "    </tr>\n",
       "    <tr>\n",
       "      <th>7</th>\n",
       "      <td>0</td>\n",
       "      <td>-0.192934</td>\n",
       "    </tr>\n",
       "    <tr>\n",
       "      <th>8</th>\n",
       "      <td>1</td>\n",
       "      <td>0.188903</td>\n",
       "    </tr>\n",
       "    <tr>\n",
       "      <th>9</th>\n",
       "      <td>0</td>\n",
       "      <td>0.123186</td>\n",
       "    </tr>\n",
       "    <tr>\n",
       "      <th>10</th>\n",
       "      <td>0</td>\n",
       "      <td>-0.316744</td>\n",
       "    </tr>\n",
       "    <tr>\n",
       "      <th>11</th>\n",
       "      <td>1</td>\n",
       "      <td>0.393729</td>\n",
       "    </tr>\n",
       "    <tr>\n",
       "      <th>12</th>\n",
       "      <td>0</td>\n",
       "      <td>-0.151630</td>\n",
       "    </tr>\n",
       "    <tr>\n",
       "      <th>13</th>\n",
       "      <td>0</td>\n",
       "      <td>-0.029786</td>\n",
       "    </tr>\n",
       "    <tr>\n",
       "      <th>14</th>\n",
       "      <td>0</td>\n",
       "      <td>-0.108102</td>\n",
       "    </tr>\n",
       "    <tr>\n",
       "      <th>15</th>\n",
       "      <td>0</td>\n",
       "      <td>-0.060546</td>\n",
       "    </tr>\n",
       "    <tr>\n",
       "      <th>16</th>\n",
       "      <td>0</td>\n",
       "      <td>0.046270</td>\n",
       "    </tr>\n",
       "    <tr>\n",
       "      <th>17</th>\n",
       "      <td>0</td>\n",
       "      <td>-0.252239</td>\n",
       "    </tr>\n",
       "    <tr>\n",
       "      <th>18</th>\n",
       "      <td>1</td>\n",
       "      <td>-0.035249</td>\n",
       "    </tr>\n",
       "    <tr>\n",
       "      <th>19</th>\n",
       "      <td>0</td>\n",
       "      <td>0.043372</td>\n",
       "    </tr>\n",
       "  </tbody>\n",
       "</table>\n",
       "</div>"
      ],
      "text/plain": [
       "    y     y_hat\n",
       "0   0  0.120357\n",
       "1   1  0.172462\n",
       "2   1  0.500911\n",
       "3   0  0.093035\n",
       "4   0  0.062783\n",
       "5   1  0.198576\n",
       "6   0 -0.060881\n",
       "7   0 -0.192934\n",
       "8   1  0.188903\n",
       "9   0  0.123186\n",
       "10  0 -0.316744\n",
       "11  1  0.393729\n",
       "12  0 -0.151630\n",
       "13  0 -0.029786\n",
       "14  0 -0.108102\n",
       "15  0 -0.060546\n",
       "16  0  0.046270\n",
       "17  0 -0.252239\n",
       "18  1 -0.035249\n",
       "19  0  0.043372"
      ]
     },
     "execution_count": 35,
     "metadata": {},
     "output_type": "execute_result"
    }
   ],
   "source": [
    "outs = pd.DataFrame(index=range(len(y_pred)), columns=['y', 'y_hat'])\n",
    "outs['y']=y_true\n",
    "outs['y_hat']=y_pred[:,0]\n",
    "outs"
   ]
  },
  {
   "cell_type": "code",
   "execution_count": 21,
   "metadata": {},
   "outputs": [
    {
     "data": {
      "text/plain": [
       "(20, 15650, 1)"
      ]
     },
     "execution_count": 21,
     "metadata": {},
     "output_type": "execute_result"
    }
   ],
   "source": [
    "masked_data.shape"
   ]
  },
  {
   "cell_type": "code",
   "execution_count": 44,
   "metadata": {},
   "outputs": [],
   "source": [
    "y_pred = torch.Tensor(y_pred)\n",
    "masked_data = torch.Tensor(masked_data)\n",
    "y_true = torch.Tensor(y_true).view(-1,1)"
   ]
  },
  {
   "cell_type": "code",
   "execution_count": 50,
   "metadata": {},
   "outputs": [
    {
     "data": {
      "text/plain": [
       "tensor([[0.5346],\n",
       "        [0.5983],\n",
       "        [1.0000],\n",
       "        [0.5012],\n",
       "        [0.4642],\n",
       "        [0.6302],\n",
       "        [0.3129],\n",
       "        [0.1514],\n",
       "        [0.6184],\n",
       "        [0.5380],\n",
       "        [0.0000],\n",
       "        [0.8689],\n",
       "        [0.2019],\n",
       "        [0.3510],\n",
       "        [0.2552],\n",
       "        [0.3133],\n",
       "        [0.4440],\n",
       "        [0.0789],\n",
       "        [0.3443],\n",
       "        [0.4404]])"
      ]
     },
     "execution_count": 50,
     "metadata": {},
     "output_type": "execute_result"
    }
   ],
   "source": [
    "yp2 = (y_pred - y_pred.min())/(y_pred - y_pred.min()+1e-7).max()\n",
    "yp2"
   ]
  },
  {
   "cell_type": "code",
   "execution_count": 52,
   "metadata": {},
   "outputs": [],
   "source": [
    "loss_all = torch.nn.functional.binary_cross_entropy(yp2, y_true, reduction='none')"
   ]
  },
  {
   "cell_type": "code",
   "execution_count": 56,
   "metadata": {},
   "outputs": [],
   "source": [
    "m2 = torch.relu((masked_data - y_pred.min())/(masked_data - y_pred.min() + 1e-7).max())"
   ]
  },
  {
   "cell_type": "code",
   "execution_count": 58,
   "metadata": {},
   "outputs": [
    {
     "data": {
      "text/plain": [
       "torch.Size([20, 15650, 1])"
      ]
     },
     "execution_count": 58,
     "metadata": {},
     "output_type": "execute_result"
    }
   ],
   "source": [
    "m2.shape"
   ]
  },
  {
   "cell_type": "code",
   "execution_count": 64,
   "metadata": {},
   "outputs": [],
   "source": [
    "yt2 = y_true.repeat((1, 15650)).view(-1, 15650, 1)"
   ]
  },
  {
   "cell_type": "code",
   "execution_count": 67,
   "metadata": {},
   "outputs": [],
   "source": [
    "error_without_one_feature = torch.nn.functional.binary_cross_entropy(m2, yt2, reduction='none')"
   ]
  },
  {
   "cell_type": "code",
   "execution_count": 68,
   "metadata": {},
   "outputs": [
    {
     "data": {
      "text/plain": [
       "torch.Size([20, 15650, 1])"
      ]
     },
     "execution_count": 68,
     "metadata": {},
     "output_type": "execute_result"
    }
   ],
   "source": [
    "error_without_one_feature.shape"
   ]
  },
  {
   "cell_type": "code",
   "execution_count": 69,
   "metadata": {},
   "outputs": [
    {
     "data": {
      "text/plain": [
       "torch.Size([20, 1])"
      ]
     },
     "execution_count": 69,
     "metadata": {},
     "output_type": "execute_result"
    }
   ],
   "source": [
    "loss_all.shape"
   ]
  },
  {
   "cell_type": "code",
   "execution_count": 72,
   "metadata": {},
   "outputs": [],
   "source": [
    "delta_errors = torch.max(error_without_one_feature.view(-1, 15650) - loss_all, torch.ones((1, 15650))*1e-7)"
   ]
  },
  {
   "cell_type": "code",
   "execution_count": 74,
   "metadata": {},
   "outputs": [
    {
     "data": {
      "text/plain": [
       "torch.Size([20, 15650])"
      ]
     },
     "execution_count": 74,
     "metadata": {},
     "output_type": "execute_result"
    }
   ],
   "source": [
    "delta_errors.shape"
   ]
  },
  {
   "cell_type": "code",
   "execution_count": 78,
   "metadata": {},
   "outputs": [],
   "source": [
    "attr = delta_errors/torch.sum(delta_errors, axis=1).view(-1,1)"
   ]
  },
  {
   "cell_type": "code",
   "execution_count": 81,
   "metadata": {},
   "outputs": [],
   "source": [
    "df = pd.DataFrame(attr.detach().cpu().numpy(), columns=dataset.hgnc)"
   ]
  },
  {
   "cell_type": "code",
   "execution_count": 89,
   "metadata": {},
   "outputs": [],
   "source": [
    "means = df.mean(axis=0).sort_values(ascending=False)"
   ]
  },
  {
   "cell_type": "code",
   "execution_count": 90,
   "metadata": {},
   "outputs": [
    {
     "data": {
      "text/plain": [
       "HEPACAM      0.012748\n",
       "HSD17B13     0.010914\n",
       "FAM170A      0.009392\n",
       "NPSR1-AS1    0.008090\n",
       "CAPN11       0.007245\n",
       "               ...   \n",
       "RNF130       0.000013\n",
       "TPRG1L       0.000013\n",
       "INTS5        0.000012\n",
       "FADD         0.000012\n",
       "GPATCH4      0.000011\n",
       "Length: 15650, dtype: float32"
      ]
     },
     "execution_count": 90,
     "metadata": {},
     "output_type": "execute_result"
    }
   ],
   "source": [
    "means"
   ]
  },
  {
   "cell_type": "code",
   "execution_count": 91,
   "metadata": {},
   "outputs": [
    {
     "data": {
      "text/plain": [
       "[<matplotlib.lines.Line2D at 0x7fa8b3622e90>]"
      ]
     },
     "execution_count": 91,
     "metadata": {},
     "output_type": "execute_result"
    },
    {
     "data": {
      "image/png": "[encoded data removed]",
      "text/plain": [
       "<Figure size 432x288 with 1 Axes>"
      ]
     },
     "metadata": {
      "needs_background": "light"
     },
     "output_type": "display_data"
    }
   ],
   "source": [
    "plt.plot(range(len(means)), means.values)"
   ]
  },
  {
   "cell_type": "code",
   "execution_count": 92,
   "metadata": {},
   "outputs": [
    {
     "data": {
      "text/plain": [
       "(-782.45, 2000.0)"
      ]
     },
     "execution_count": 92,
     "metadata": {},
     "output_type": "execute_result"
    },
    {
     "data": {
      "image/png": "[encoded data removed]",
      "text/plain": [
       "<Figure size 432x288 with 1 Axes>"
      ]
     },
     "metadata": {
      "needs_background": "light"
     },
     "output_type": "display_data"
    }
   ],
   "source": [
    "plt.plot(range(len(means)), means.values)\n",
    "plt.xlim(right=2000)"
   ]
  },
  {
   "cell_type": "code",
   "execution_count": 93,
   "metadata": {},
   "outputs": [
    {
     "data": {
      "text/plain": [
       "HEPACAM      0.012748\n",
       "HSD17B13     0.010914\n",
       "FAM170A      0.009392\n",
       "NPSR1-AS1    0.008090\n",
       "CAPN11       0.007245\n",
       "TKTL1        0.006677\n",
       "ABCA10       0.006393\n",
       "ACTBL2       0.005863\n",
       "S1PR1        0.005643\n",
       "NKX2-8       0.005552\n",
       "E2F1         0.005340\n",
       "C20orf202    0.005083\n",
       "APBB3        0.004907\n",
       "LCE1C        0.004735\n",
       "CLDN19       0.004331\n",
       "RP1L1        0.004264\n",
       "TRBV10-2     0.004214\n",
       "BMP5         0.004173\n",
       "MARS         0.003893\n",
       "AMZ1         0.003775\n",
       "RPL13        0.003664\n",
       "DUSP21       0.003591\n",
       "HARBI1       0.003482\n",
       "GLT1D1       0.003459\n",
       "CARD18       0.003414\n",
       "TPPP2        0.003402\n",
       "NCOA3        0.003347\n",
       "KLK2         0.003251\n",
       "C4orf51      0.003226\n",
       "ATP12A       0.003090\n",
       "MTHFSD       0.003031\n",
       "FOXI1        0.003008\n",
       "ANGPTL7      0.002997\n",
       "TPTE         0.002939\n",
       "KRT86        0.002939\n",
       "RRAGA        0.002811\n",
       "TMEM89       0.002751\n",
       "FCN2         0.002709\n",
       "GPR68        0.002643\n",
       "CDCP2        0.002556\n",
       "DLL1         0.002462\n",
       "OR8A1        0.002461\n",
       "SOHLH2       0.002414\n",
       "UBE2N        0.002397\n",
       "BAK1         0.002385\n",
       "CRCT1        0.002375\n",
       "STIM1        0.002361\n",
       "PPP1CA       0.002352\n",
       "ZSWIM5       0.002336\n",
       "CDH12        0.002336\n",
       "dtype: float32"
      ]
     },
     "execution_count": 93,
     "metadata": {},
     "output_type": "execute_result"
    }
   ],
   "source": [
    "means[:50]"
   ]
  },
  {
   "cell_type": "code",
   "execution_count": null,
   "metadata": {},
   "outputs": [],
   "source": []
  }
 ],
 "metadata": {
  "kernelspec": {
   "display_name": "Python 3",
   "language": "python",
   "name": "python3"
  },
  "language_info": {
   "codemirror_mode": {
    "name": "ipython",
    "version": 3
   },
   "file_extension": ".py",
   "mimetype": "text/x-python",
   "name": "python",
   "nbconvert_exporter": "python",
   "pygments_lexer": "ipython3",
   "version": "3.7.6"
  }
 },
 "nbformat": 4,
 "nbformat_minor": 4
}
